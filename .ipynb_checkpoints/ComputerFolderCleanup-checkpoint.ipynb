{
 "cells": [
  {
   "cell_type": "code",
   "execution_count": 32,
   "metadata": {},
   "outputs": [
    {
     "name": "stdout",
     "output_type": "stream",
     "text": [
      "Enter your username: ryanpierson\n"
     ]
    }
   ],
   "source": [
    "import os\n",
    "x = input('Enter your username: ')\n",
    "path = '/Users/'+ x +'/Downloads'\n",
    "files = list(os.listdir(path))"
   ]
  },
  {
   "cell_type": "code",
   "execution_count": null,
   "metadata": {},
   "outputs": [],
   "source": [
    "for i in files:\n",
    "    print(i)"
   ]
  },
  {
   "cell_type": "code",
   "execution_count": 33,
   "metadata": {},
   "outputs": [
    {
     "name": "stdout",
     "output_type": "stream",
     "text": [
      "Number of file types: 35\n",
      "Number of files: 483\n",
      "{'dmg': ['Native_Access_Installer.dmg'], 'zip': ['Codex.zip'], 'docx': ['CL Resume 08.28.2018 (1).docx'], 'mp3': ['blue_jam_-_s03e01.mp3'], 'ens': ['PolyComb_1.7.ens'], 'pkg': ['Arturia_Software_Center_1_4_2_306.pkg'], 'aria2': ['Symphony_Essentials_Woodwind_Ensemble.iso.aria2'], 'pdf': ['kuvert_docs.pdf'], 'amxd': ['Reverser5.01.amxd'], 'xlsx': ['world-cup-data.xlsx'], 'iso': ['Traktors_12.iso'], 'csv': ['linkedin-top-skills.csv'], 'alp': ['ConvolutionReverb_r47747_v1.0.alp'], 'rar': ['gsh.rar'], 'ipynb': ['plot_multiblock_local_binary_pattern.ipynb'], 'html': ['index.html'], 'DS_Store': ['.DS_Store'], 'asd': [\"Flip Major Ft. Sonny Digital - What's Up Now (Acapella Dirty) 70 BPM.mp3.asd\"], 'png': ['aria_key_1009.png'], 'htm': ['hello.py — Treehouse Workspaces.htm'], 'localized': ['.localized'], 'js': ['calculation.js'], 'txt': ['table_descriptions.txt'], 'syx': ['303kit.syx'], 'mp4': ['Sunday Funday Stream.mp4'], 'wav': ['Slum-Village-Selfish-Acapella.wav'], 'textClipping': ['Isotonik.textClipping'], 'ics': ['meetup.ics'], 'als': ['DigiPad-Template1.als'], 'exe': ['DocXViewerSetup1.3.exe'], 'jpg': ['38860212_2115229491851825_4598032158479613952_n.jpg'], 'twbx': ['World Cup - Goals by Country.twbx'], 'crdownload': ['Unconfirmed 515713.crdownload'], 'css': ['normalize.css'], 'adg': ['Machinedrum Drum Rack by Iban Device.adg']}\n"
     ]
    }
   ],
   "source": [
    "# FileType Dictionary\n",
    "collection = {}\n",
    "for file in files:\n",
    "    typ = file.rfind(\".\")\n",
    "    #print(o)\n",
    "    #print(path + '/' + file)\n",
    "    #print(type(path + '/' + file))\n",
    "    if os.path.isfile(path + '/' + file):\n",
    "        #print('ran')\n",
    "        if file[typ + 1:] not in collection:\n",
    "            collection[file[typ + 1:]] = []\n",
    "            collection[file[typ +1 :]].append(file)\n",
    "print(\"Number of file types:\",len(collection))\n",
    "print('Number of files:', len(files))\n",
    "print(collection)"
   ]
  },
  {
   "cell_type": "code",
   "execution_count": null,
   "metadata": {},
   "outputs": [],
   "source": [
    "print(os.path.isdir(\"../Desktop\"))\n",
    "print(os.path.exists(\"/home/el/myfile.txt\"))"
   ]
  },
  {
   "cell_type": "code",
   "execution_count": null,
   "metadata": {},
   "outputs": [],
   "source": [
    "os.mkdir('../Desktop/Test')"
   ]
  },
  {
   "cell_type": "code",
   "execution_count": 86,
   "metadata": {},
   "outputs": [],
   "source": [
    "# FileType Dictionary\n",
    "def directory_folder(path):\n",
    "    files = list(os.listdir(path))\n",
    "    collection = {}\n",
    "    for file in files:\n",
    "        typ = file.rfind(\".\")\n",
    "        #print(o)\n",
    "        #print(path + '/' + file)\n",
    "        #print(type(path + '/' + file))\n",
    "        if os.path.isfile(path + '/' + file):\n",
    "            #print('ran')\n",
    "            if file[typ + 1:] not in collection:\n",
    "                collection[file[typ + 1:]] = []\n",
    "                collection[file[typ +1 :]].append(file)\n",
    "    print(\"Number of file types:\",len(collection))\n",
    "    print('Number of files:', len(files))\n",
    "    return collection\n",
    "\n",
    "# Helper Function\n",
    "    # for moving files into new folders\n",
    "        # In the programs instance, \n",
    "        # checks the existence of file in list and destination, and then moves the file to it\n",
    "def check_move(file, new, check):\n",
    "    if os.path.exists(file) and os.path.isdir(check):\n",
    "        print('yes')\n",
    "        os.rename(file, new)\n",
    "    else:\n",
    "        print(\"trying to access {} or {}\".format(file, check))\n",
    "        print(os.path.exists(file))\n",
    "        print(os.path.isdir(check))\n",
    "\n",
    "#Helper function\n",
    "# If the directory doesn't exist, create the directory\n",
    "def check_and_create(path):\n",
    "    if not os.path.isdir(path):\n",
    "        os.mkdir(path)\n",
    "        print('done')\n",
    "        \n",
    "# move function\n",
    "def consolidate(dictionary, search_path):\n",
    "    import datetime\n",
    "    now = datetime.datetime.now()\n",
    "    foldname = \"CleanUpDate\" + \\\n",
    "        str(now.month)+'.'+str(now.day)+'.'+str(now.year)\n",
    "    nu_path = str(os.getcwd()) + \"/\" + foldname\n",
    "    check_and_create(nu_path)\n",
    "    for typ in dictionary.keys():\n",
    "        check_and_create(nu_path + '/' + typ)\n",
    "        for i in dictionary[typ]:\n",
    "            print(i)\n",
    "            check_move(search_path + '/' + i, nu_path + '/'+ str(typ) + '/' + i, nu_path + '/'+ str(typ))\n",
    "            #print(search_path + '/' + str(typ))\n",
    "            #print(nu_path + '/'+ str(typ) + '/' + i)\n",
    "\n",
    "def main():\n",
    "    path = input('Enter CleanUp Path: ')\n",
    "    dic = directory_folder(path)\n",
    "    consolidate(dic, path)"
   ]
  },
  {
   "cell_type": "code",
   "execution_count": 23,
   "metadata": {},
   "outputs": [],
   "source": [
    "#Testing the extent of the os.move() function\n",
    "import os\n",
    "#os.chdir('/Users/ryanpierson/Desktop')\n",
    "os.rename('/Users/ryanpierson/Desktop/TEST2.txt', '/Users/ryanpierson/Desktop/TestFolder/TEST2.txt')"
   ]
  },
  {
   "cell_type": "code",
   "execution_count": 19,
   "metadata": {},
   "outputs": [
    {
     "data": {
      "text/plain": [
       "True"
      ]
     },
     "execution_count": 19,
     "metadata": {},
     "output_type": "execute_result"
    }
   ],
   "source": [
    "os.path.exists('TESTFILE.md')\n",
    "os.path.isdir('TestFolder/')"
   ]
  },
  {
   "cell_type": "code",
   "execution_count": 77,
   "metadata": {},
   "outputs": [
    {
     "data": {
      "text/plain": [
       "True"
      ]
     },
     "execution_count": 77,
     "metadata": {},
     "output_type": "execute_result"
    }
   ],
   "source": [
    "os.path.isdir('/Users/ryanpierson/Desktop/CleanUpDate10.12.2018/dmg')"
   ]
  },
  {
   "cell_type": "code",
   "execution_count": 88,
   "metadata": {},
   "outputs": [
    {
     "ename": "NameError",
     "evalue": "name 'dictionary' is not defined",
     "output_type": "error",
     "traceback": [
      "\u001b[0;31m---------------------------------------------------------------------------\u001b[0m",
      "\u001b[0;31mNameError\u001b[0m                                 Traceback (most recent call last)",
      "\u001b[0;32m<ipython-input-88-c8c896c3840a>\u001b[0m in \u001b[0;36m<module>\u001b[0;34m()\u001b[0m\n\u001b[0;32m----> 1\u001b[0;31m \u001b[0mdictionary\u001b[0m\u001b[0;34m\u001b[0m\u001b[0m\n\u001b[0m",
      "\u001b[0;31mNameError\u001b[0m: name 'dictionary' is not defined"
     ]
    }
   ],
   "source": [
    "dictionary"
   ]
  },
  {
   "cell_type": "code",
   "execution_count": 87,
   "metadata": {},
   "outputs": [
    {
     "name": "stdout",
     "output_type": "stream",
     "text": [
      "Enter CleanUp Path: /Users/ryanpierson/Downloads\n",
      "Number of file types: 21\n",
      "Number of files: 448\n",
      "The-Attic-Update.zip\n",
      "yes\n",
      "NumerologyPro-4.2-Build175.dmg\n",
      "yes\n",
      "MB168_EN_Q41G78S168060B-0617.pdf\n",
      "yes\n",
      "Crumar_Multiman-S_by_NOISS_COKO.alp\n",
      "yes\n",
      "MAC_chipsynth_PortaFM_v1003.pkg\n",
      "yes\n",
      "MidiConverter_1.amxd\n",
      "yes\n",
      "L1_Starter_Code (2).ipynb\n",
      "yes\n",
      "superherodata-tableau.xlsx\n",
      "yes\n",
      "Guitar_Rig_5.iso.aria2\n",
      "yes\n",
      "blue_jam_-_s03e06.mp3\n",
      "yes\n",
      "all_kaggle_datasets.csv\n",
      "yes\n",
      "wavelet_cross_synth.ens\n",
      "yes\n",
      "CoverLetter-BA.docx\n",
      "yes\n",
      "Guitar_Rig_5.iso\n",
      "yes\n",
      "Trinidad James - All Gold Everything (Acapella) 100 BPM.mp3.asd\n",
      "yes\n",
      "aria_key_1100.png\n",
      "yes\n",
      "240_TESQ.rar\n",
      "yes\n",
      "Image-1.jpg\n",
      "yes\n",
      "Unconfirmed 828297.crdownload\n",
      "yes\n",
      "LinkedIn Top Skills Dashboard.twbx\n",
      "yes\n",
      "7z1801-x64.exe\n",
      "yes\n"
     ]
    }
   ],
   "source": [
    "main()"
   ]
  },
  {
   "cell_type": "code",
   "execution_count": null,
   "metadata": {},
   "outputs": [],
   "source": []
  }
 ],
 "metadata": {
  "kernelspec": {
   "display_name": "Python 3",
   "language": "python",
   "name": "python3"
  },
  "language_info": {
   "codemirror_mode": {
    "name": "ipython",
    "version": 3
   },
   "file_extension": ".py",
   "mimetype": "text/x-python",
   "name": "python",
   "nbconvert_exporter": "python",
   "pygments_lexer": "ipython3",
   "version": "3.6.5"
  }
 },
 "nbformat": 4,
 "nbformat_minor": 2
}
