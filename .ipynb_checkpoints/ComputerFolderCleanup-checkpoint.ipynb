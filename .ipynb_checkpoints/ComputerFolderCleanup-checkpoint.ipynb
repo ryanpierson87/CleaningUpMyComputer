{
 "cells": [
  {
   "cell_type": "code",
   "execution_count": 48,
   "metadata": {},
   "outputs": [
    {
     "name": "stdout",
     "output_type": "stream",
     "text": [
      "Enter CleanUp Path: /Users/ryanpierson/Downloads/CLEANUPTEST/From\n",
      "Number of file types: 2\n",
      "Number of files: 16\n",
      "yes\n",
      "yes\n",
      "yes\n",
      "yes\n",
      "yes\n",
      "yes\n",
      "yes\n",
      "yes\n",
      "yes\n",
      "yes\n",
      "yes\n",
      "yes\n",
      "yes\n",
      "yes\n",
      "yes\n",
      "yes\n",
      "Number 2 is done with 6 files moved\n"
     ]
    }
   ],
   "source": [
    "import os\n",
    "import shutil\n",
    "# FileType Dictionary\n",
    "def directory_folder(path):\n",
    "    \"\"\"\n",
    "    Returns a dictionary of all the files of the provided path separated by file type\n",
    "    \"\"\"\n",
    "    #dimension intended to work with a mod to test sub-directories, in case there are no files in the sub\n",
    "        # if dimension > 1, delete sub directory\n",
    "        #Can't delete initial folder for things like Desktop/Downloads/etc\n",
    "    dimension = 0\n",
    "    files = list(os.listdir(path))\n",
    "    collection = {}\n",
    "    for file in files:\n",
    "        typ = file.rfind(\".\")\n",
    "        if os.path.isfile(path + '/' + file):\n",
    "            if file[typ + 1:] not in collection:\n",
    "                collection[file[typ + 1:]] = []\n",
    "            collection[file[typ +1 :]].append(file)\n",
    "        elif os.path.isdir(path + '/' + file):\n",
    "            if file['Sub-direct'] not in collection:\n",
    "                collection['Sub-direct'] = []\n",
    "            collection['Sub-direct'].append(file)\n",
    "    print(\"Number of file types:\",len(collection))\n",
    "    print('Number of files:', len(files))\n",
    "    return collection\n",
    "\n",
    "# Helper Function\n",
    "    # for moving files into new folders\n",
    "        # In the programs instance, \n",
    "        # checks the existence of file in list and destination, and then moves the file to it\n",
    "def check_move(file, new, check):\n",
    "    \"\"\"\n",
    "    Helper function to ensure the moved_file and destination exists.\n",
    "    \n",
    "    check_move('file.md', 'NewFolder/file.md', 'NewFolder/')\n",
    "    \"\"\"\n",
    "    if os.path.exists(file) and os.path.isdir(check):\n",
    "        print('yes')\n",
    "        os.rename(file, new)\n",
    "    else:\n",
    "        print(\"trying to access {} or {}\".format(file, check))\n",
    "        print(os.path.exists(file))\n",
    "        print(os.path.isdir(check))\n",
    "\n",
    "#Helper function\n",
    "# If the directory doesn't exist, create the directory\n",
    "def check_and_create(path):\n",
    "    \"\"\"Helper function to create a new directory provided it doesn't exist\"\"\"\n",
    "    if not os.path.isdir(path):\n",
    "        os.mkdir(path)\n",
    "        \n",
    "# move function\n",
    "def consolidate(dictionary, search_path, dest):\n",
    "    \"\"\"\n",
    "    Takes the dictionary and path and relocates the files in the directory into a centralized location based on file type\n",
    "    \"\"\"\n",
    "    # Create the folders\n",
    "    x = 0\n",
    "#     import datetime\n",
    "#     now = datetime.datetime.now()\n",
    "#     foldname = \"CleanUpDate\" + \\\n",
    "#         str(now.month)+'.'+str(now.day)+'.'+str(now.year)\n",
    "#     nu_path = str(dest) + \"/\" + foldname\n",
    "#     check_and_create(nu_path)\n",
    "\n",
    "#     for typ in dictionary.keys():\n",
    "#         check_and_create(nu_path + '/' + typ)\n",
    "#         y = 0\n",
    "#         for i in dictionary[typ]:\n",
    "#             check_move(search_path + '/' + i, nu_path + '/'+ str(typ) + '/' + i, nu_path + '/'+ str(typ))\n",
    "#             y += 1\n",
    "#         x += 1\n",
    "    nu_path = destination()dest\n",
    "\n",
    "    file_uhal(search_path, dictionary, nu_path)\n",
    "        \n",
    "def destination(dest):\n",
    "        # Create the folder\n",
    "    x = 0\n",
    "    import datetime\n",
    "    now = datetime.datetime.now()\n",
    "    foldname = \"CleanUpDate\" + \\\n",
    "        str(now.month)+'.'+str(now.day)+'.'+str(now.year)\n",
    "    nu_path = str(dest) + \"/\" + foldname\n",
    "    check_and_create(nu_path)\n",
    "    return nu_path\n",
    "    \n",
    "def file_uhal(search_path, dictionary, nu_path):\n",
    "    for typ in dictionary.keys():\n",
    "        check_and_create(nu_path + '/' + typ)\n",
    "        y = 0\n",
    "        for i in dictionary[typ]:\n",
    "            check_move(search_path + '/' + i, nu_path + '/'+ str(typ) + '/' + i, nu_path + '/'+ str(typ))\n",
    "            y += 1\n",
    "        x += 1\n",
    "\n",
    "def main(path=None, new_loc = None):\n",
    "    \"\"\"Easily executable function for the cleanup\"\"\"\n",
    "    if new_loc == None:\n",
    "        new_loc = input('Enter Destination Folder Path: ')\n",
    "    if path == None:\n",
    "        path = input('Enter CleanUp Path: ')\n",
    "    dic = directory_folder(path)\n",
    "    consolidate(dic, path, new_loc)\n",
    "    \n",
    "if __name__ == '__main__':\n",
    "    main()"
   ]
  },
  {
   "cell_type": "code",
   "execution_count": 1,
   "metadata": {},
   "outputs": [],
   "source": [
    "import os"
   ]
  },
  {
   "cell_type": "code",
   "execution_count": 2,
   "metadata": {},
   "outputs": [
    {
     "data": {
      "text/plain": [
       "'/Users/ryanpierson/FolderCleanup'"
      ]
     },
     "execution_count": 2,
     "metadata": {},
     "output_type": "execute_result"
    }
   ],
   "source": [
    "pwd"
   ]
  },
  {
   "cell_type": "code",
   "execution_count": 3,
   "metadata": {},
   "outputs": [],
   "source": [
    "os.chdir('/Users/ryanpierson/Downloads/CLEANUPTEST')"
   ]
  },
  {
   "cell_type": "code",
   "execution_count": 5,
   "metadata": {},
   "outputs": [
    {
     "ename": "FileNotFoundError",
     "evalue": "[Errno 2] No such file or directory: 'Users/ryanpierson/Downloads/CLEANUPTEST/combo' -> 'Users/ryanpierson/Desktop/combo'",
     "output_type": "error",
     "traceback": [
      "\u001b[0;31m---------------------------------------------------------------------------\u001b[0m",
      "\u001b[0;31mFileNotFoundError\u001b[0m                         Traceback (most recent call last)",
      "\u001b[0;32m<ipython-input-5-f9f284f061ed>\u001b[0m in \u001b[0;36m<module>\u001b[0;34m()\u001b[0m\n\u001b[0;32m----> 1\u001b[0;31m \u001b[0mos\u001b[0m\u001b[0;34m.\u001b[0m\u001b[0mrename\u001b[0m\u001b[0;34m(\u001b[0m\u001b[0;34m'Users/ryanpierson/Downloads/CLEANUPTEST/combo'\u001b[0m\u001b[0;34m,\u001b[0m \u001b[0;34m'Users/ryanpierson/Desktop/combo'\u001b[0m\u001b[0;34m)\u001b[0m\u001b[0;34m\u001b[0m\u001b[0m\n\u001b[0m",
      "\u001b[0;31mFileNotFoundError\u001b[0m: [Errno 2] No such file or directory: 'Users/ryanpierson/Downloads/CLEANUPTEST/combo' -> 'Users/ryanpierson/Desktop/combo'"
     ]
    }
   ],
   "source": [
    "os.rename('Users/ryanpierson/Downloads/CLEANUPTEST/combo', 'Users/ryanpierson/Desktop/combo')"
   ]
  },
  {
   "cell_type": "code",
   "execution_count": 6,
   "metadata": {},
   "outputs": [
    {
     "name": "stdout",
     "output_type": "stream",
     "text": [
      "\u001b[34mcombo\u001b[m\u001b[m/\r\n"
     ]
    }
   ],
   "source": [
    "ls"
   ]
  },
  {
   "cell_type": "code",
   "execution_count": 21,
   "metadata": {},
   "outputs": [],
   "source": [
    "dire = '/Users/ryanpierson/Downloads/CLEANUPTEST/combo'"
   ]
  },
  {
   "cell_type": "code",
   "execution_count": 25,
   "metadata": {},
   "outputs": [
    {
     "data": {
      "text/plain": [
       "'/Users/ryanpierson/Desktop/combo'"
      ]
     },
     "execution_count": 25,
     "metadata": {},
     "output_type": "execute_result"
    }
   ],
   "source": [
    "shutil.move(dire, '/Users/ryanpierson/Desktop')"
   ]
  },
  {
   "cell_type": "code",
   "execution_count": 23,
   "metadata": {},
   "outputs": [],
   "source": [
    "import shutil"
   ]
  },
  {
   "cell_type": "code",
   "execution_count": 26,
   "metadata": {},
   "outputs": [
    {
     "data": {
      "text/plain": [
       "'/Users/ryanpierson/Downloads/CLEANUPTEST'"
      ]
     },
     "execution_count": 26,
     "metadata": {},
     "output_type": "execute_result"
    }
   ],
   "source": [
    "pwd"
   ]
  },
  {
   "cell_type": "code",
   "execution_count": 28,
   "metadata": {},
   "outputs": [],
   "source": [
    "ls"
   ]
  },
  {
   "cell_type": "code",
   "execution_count": 29,
   "metadata": {},
   "outputs": [],
   "source": [
    "os.chdir('/Users/ryanpierson/Desktop/combo')"
   ]
  },
  {
   "cell_type": "code",
   "execution_count": 30,
   "metadata": {},
   "outputs": [
    {
     "name": "stdout",
     "output_type": "stream",
     "text": [
      "\u001b[34mFrom\u001b[m\u001b[m/ \u001b[34mTo\u001b[m\u001b[m/\r\n"
     ]
    }
   ],
   "source": [
    "ls"
   ]
  },
  {
   "cell_type": "code",
   "execution_count": 31,
   "metadata": {},
   "outputs": [
    {
     "name": "stdout",
     "output_type": "stream",
     "text": [
      "/Users/ryanpierson/Desktop/combo/From\n"
     ]
    }
   ],
   "source": [
    "cd From"
   ]
  },
  {
   "cell_type": "code",
   "execution_count": 34,
   "metadata": {},
   "outputs": [
    {
     "data": {
      "text/plain": [
       "7"
      ]
     },
     "execution_count": 34,
     "metadata": {},
     "output_type": "execute_result"
    }
   ],
   "source": [
    "len(list(os.scandir()))"
   ]
  },
  {
   "cell_type": "code",
   "execution_count": 36,
   "metadata": {},
   "outputs": [],
   "source": [
    "# CURRENTLY: Goes through folder and moves the Files\n",
    "\n",
    "# Need to do something in regards to Directories\n",
    "    # Search inside sub-directories:\n",
    "        #If sub is empty --> DELETE the directory\n",
    "        #If sub has 1 file:\n",
    "            # --> move it inside the bulk destination folder(same process)\n",
    "            # --> DELETE the sub directory\n",
    "        #If sub has >1 file --> Move the directory to \"Sub\" folder in Bulk Dest\n",
    "        \n",
    "        # If Sub has sub:\n",
    "            # If Sub2 has one file --> move it to orig sub\n",
    "            # If Sub2 has zero files --> DELETE it\n",
    "            # If Sub2 has >1 file --> Do Nothing and resume with process\n",
    "            \n",
    "### FILE FOR LOOP ...\n",
    "    # if os.path.isdir(file):\n",
    "        # sub_checker(file)"
   ]
  },
  {
   "cell_type": "code",
   "execution_count": null,
   "metadata": {},
   "outputs": [],
   "source": [
    "def sub_checker(directory, current):\n",
    "    \"\"\"Pass in the selected directory and the current parsing location\"\"\"\n",
    "    files = list(os.scandir(current + '/' + directory))\n",
    "    count = len(files)\n",
    "    if count < 2:\n",
    "        if count == 0:\n",
    "            os.remove(directory)\n",
    "        else:\n",
    "            "
   ]
  }
 ],
 "metadata": {
  "kernelspec": {
   "display_name": "Python 3",
   "language": "python",
   "name": "python3"
  },
  "language_info": {
   "codemirror_mode": {
    "name": "ipython",
    "version": 3
   },
   "file_extension": ".py",
   "mimetype": "text/x-python",
   "name": "python",
   "nbconvert_exporter": "python",
   "pygments_lexer": "ipython3",
   "version": "3.6.6"
  }
 },
 "nbformat": 4,
 "nbformat_minor": 2
}
