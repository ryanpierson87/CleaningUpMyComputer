{
 "cells": [
  {
   "cell_type": "code",
   "execution_count": 32,
   "metadata": {},
   "outputs": [
    {
     "name": "stdout",
     "output_type": "stream",
     "text": [
      "Enter your username: ryanpierson\n"
     ]
    }
   ],
   "source": [
    "import os\n",
    "x = input('Enter your username: ')\n",
    "path = '/Users/'+ x +'/Downloads'\n",
    "files = list(os.listdir(path))"
   ]
  },
  {
   "cell_type": "code",
   "execution_count": null,
   "metadata": {},
   "outputs": [],
   "source": [
    "for i in files:\n",
    "    print(i)"
   ]
  },
  {
   "cell_type": "code",
   "execution_count": 33,
   "metadata": {},
   "outputs": [
    {
     "name": "stdout",
     "output_type": "stream",
     "text": [
      "Number of file types: 35\n",
      "Number of files: 483\n",
      "{'dmg': ['Native_Access_Installer.dmg'], 'zip': ['Codex.zip'], 'docx': ['CL Resume 08.28.2018 (1).docx'], 'mp3': ['blue_jam_-_s03e01.mp3'], 'ens': ['PolyComb_1.7.ens'], 'pkg': ['Arturia_Software_Center_1_4_2_306.pkg'], 'aria2': ['Symphony_Essentials_Woodwind_Ensemble.iso.aria2'], 'pdf': ['kuvert_docs.pdf'], 'amxd': ['Reverser5.01.amxd'], 'xlsx': ['world-cup-data.xlsx'], 'iso': ['Traktors_12.iso'], 'csv': ['linkedin-top-skills.csv'], 'alp': ['ConvolutionReverb_r47747_v1.0.alp'], 'rar': ['gsh.rar'], 'ipynb': ['plot_multiblock_local_binary_pattern.ipynb'], 'html': ['index.html'], 'DS_Store': ['.DS_Store'], 'asd': [\"Flip Major Ft. Sonny Digital - What's Up Now (Acapella Dirty) 70 BPM.mp3.asd\"], 'png': ['aria_key_1009.png'], 'htm': ['hello.py — Treehouse Workspaces.htm'], 'localized': ['.localized'], 'js': ['calculation.js'], 'txt': ['table_descriptions.txt'], 'syx': ['303kit.syx'], 'mp4': ['Sunday Funday Stream.mp4'], 'wav': ['Slum-Village-Selfish-Acapella.wav'], 'textClipping': ['Isotonik.textClipping'], 'ics': ['meetup.ics'], 'als': ['DigiPad-Template1.als'], 'exe': ['DocXViewerSetup1.3.exe'], 'jpg': ['38860212_2115229491851825_4598032158479613952_n.jpg'], 'twbx': ['World Cup - Goals by Country.twbx'], 'crdownload': ['Unconfirmed 515713.crdownload'], 'css': ['normalize.css'], 'adg': ['Machinedrum Drum Rack by Iban Device.adg']}\n"
     ]
    }
   ],
   "source": [
    "# FileType Dictionary\n",
    "collection = {}\n",
    "for file in files:\n",
    "    typ = file.rfind(\".\")\n",
    "    #print(o)\n",
    "    #print(path + '/' + file)\n",
    "    #print(type(path + '/' + file))\n",
    "    if os.path.isfile(path + '/' + file):\n",
    "        #print('ran')\n",
    "        if file[typ + 1:] not in collection:\n",
    "            collection[file[typ + 1:]] = []\n",
    "            collection[file[typ +1 :]].append(file)\n",
    "print(\"Number of file types:\",len(collection))\n",
    "print('Number of files:', len(files))\n",
    "print(collection)"
   ]
  },
  {
   "cell_type": "code",
   "execution_count": null,
   "metadata": {},
   "outputs": [],
   "source": [
    "print(os.path.isdir(\"../Desktop\"))\n",
    "print(os.path.exists(\"/home/el/myfile.txt\"))"
   ]
  },
  {
   "cell_type": "code",
   "execution_count": null,
   "metadata": {},
   "outputs": [],
   "source": [
    "os.mkdir('../Desktop/Test')"
   ]
  },
  {
   "cell_type": "code",
   "execution_count": 30,
   "metadata": {},
   "outputs": [],
   "source": [
    "# If the directory doesn't exist, create the directory\n",
    "def check_and_create(path):\n",
    "    if not os.path.isdir(path):\n",
    "        os.mkdir(path)\n",
    "# for moving files into new folders\n",
    "    # In the programs instance, \n",
    "    # checks the existence of file in list and destination, and then moves the file to it\n",
    "def check_move(file, direct):\n",
    "    if os.path.exists(file) and os.path.isdir(direct):\n",
    "        os.rename(file, path)\n",
    "        \n",
    "# move function\n",
    "def consolidate(dictionary, search_path):\n",
    "    import datetime\n",
    "    now = datetime.datetime.now()\n",
    "    foldname = \"CleanUp Date \" + \\\n",
    "        str(now.month)+'.'+str(now.day)+'.'+str(now.year)\n",
    "    nu_path = str(os.getcwd()) + \"Desktop/\" + foldname\n",
    "    check_and_create(nu_path)\n",
    "    for typ in dictionary.keys():\n",
    "        check_and_create(nu_path + '/' + typ)"
   ]
  },
  {
   "cell_type": "code",
   "execution_count": 23,
   "metadata": {},
   "outputs": [],
   "source": [
    "#Testing the extent of the os.move() function\n",
    "import os\n",
    "#os.chdir('/Users/ryanpierson/Desktop')\n",
    "os.rename('/Users/ryanpierson/Desktop/TEST2.txt', '/Users/ryanpierson/Desktop/TestFolder/TEST2.txt')"
   ]
  },
  {
   "cell_type": "code",
   "execution_count": 19,
   "metadata": {},
   "outputs": [
    {
     "data": {
      "text/plain": [
       "True"
      ]
     },
     "execution_count": 19,
     "metadata": {},
     "output_type": "execute_result"
    }
   ],
   "source": [
    "os.path.exists('TESTFILE.md')\n",
    "os.path.isdir('TestFolder/')"
   ]
  },
  {
   "cell_type": "code",
   "execution_count": 22,
   "metadata": {},
   "outputs": [
    {
     "name": "stdout",
     "output_type": "stream",
     "text": [
      "2012-04-29-kennethlove2.png\r\n",
      "\u001b[34mAtom.app\u001b[m\u001b[m/\r\n",
      "\u001b[34mBowed Gamelan for Live\u001b[m\u001b[m/\r\n",
      "\u001b[34mCSSLayouts\u001b[m\u001b[m/\r\n",
      "\u001b[34mDownloadingAndThreading\u001b[m\u001b[m/\r\n",
      "\u001b[34mFrasier\u001b[m\u001b[m/\r\n",
      "\u001b[34mFrasierProject\u001b[m\u001b[m/\r\n",
      "\u001b[34mFrasierd\u001b[m\u001b[m/\r\n",
      "\u001b[34mGForce_M_Tron_Pro_Installer_3264_215_16.app\u001b[m\u001b[m/\r\n",
      "\u001b[34mInstall Spotify.app\u001b[m\u001b[m/\r\n",
      "\u001b[34mKarplus-Stronger V2 by TEAM BANZAI\u001b[m\u001b[m/\r\n",
      "\u001b[34mKonkrete-Update\u001b[m\u001b[m/\r\n",
      "LaunchControl.pyc\r\n",
      "Love_HitAWall.aif\r\n",
      "\u001b[34mMTronProSounds\u001b[m\u001b[m/\r\n",
      "\u001b[34mNumberWangCL\u001b[m\u001b[m/\r\n",
      "\u001b[34mOperatorBeat Project\u001b[m\u001b[m/\r\n",
      "\u001b[34mPolyMind v2.1\u001b[m\u001b[m/\r\n",
      "\u001b[34mProgram\u001b[m\u001b[m/\r\n",
      "\u001b[34mPush2\u001b[m\u001b[m/\r\n",
      "Retune for Live Transmitter.amxd\r\n",
      "\u001b[34mSC Devilfish for Live\u001b[m\u001b[m/\r\n",
      "\u001b[34mSQLAlchEnv\u001b[m\u001b[m/\r\n",
      "\u001b[34mScala_Setup.app\u001b[m\u001b[m/\r\n",
      "Screen Shot 2018-07-17 at 11.57.24 PM.png\r\n",
      "Screen Shot 2018-08-18 at 6.31.17 PM (2).png\r\n",
      "Screen Shot 2018-08-30 at 8.23.13 PM.png\r\n",
      "Screen Shot 2018-09-01 at 10.47.55 PM.png\r\n",
      "Screen Shot 2018-10-04 at 4.30.45 PM.png\r\n",
      "Screen Shot 2018-10-04 at 4.31.18 PM.png\r\n",
      "\u001b[34mSlums of Canada\u001b[m\u001b[m/\r\n",
      "\u001b[34mSoniccouture-Konkrete3.app\u001b[m\u001b[m/\r\n",
      "\u001b[34mSoniccouture-Theattic.app\u001b[m\u001b[m/\r\n",
      "\u001b[34mSpotifyAnalysis\u001b[m\u001b[m/\r\n",
      "\u001b[34mTestFolder\u001b[m\u001b[m/\r\n",
      "\u001b[34mThe-Attic-Update\u001b[m\u001b[m/\r\n",
      "\u001b[34mTube Drum for Live\u001b[m\u001b[m/\r\n",
      "\u001b[34mVirtual\u001b[m\u001b[m/\r\n",
      "\u001b[34m__MACOSX\u001b[m\u001b[m/\r\n",
      "\u001b[34mdawcassette_mac_1_0_0\u001b[m\u001b[m/\r\n",
      "\u001b[34mduet.app\u001b[m\u001b[m/\r\n",
      "lc.txt\r\n",
      "\u001b[34mlessons\u001b[m\u001b[m/\r\n",
      "\u001b[34mmisc_pandas\u001b[m\u001b[m/\r\n",
      "\u001b[34mmy_first_repo\u001b[m\u001b[m/\r\n",
      "\u001b[34moutput\u001b[m\u001b[m/\r\n",
      "requirements.txt\r\n",
      "test400.png\r\n",
      "\u001b[34mtesttwo\u001b[m\u001b[m/\r\n",
      "\u001b[34mthink_dsp\u001b[m\u001b[m/\r\n"
     ]
    }
   ],
   "source": [
    "ls"
   ]
  },
  {
   "cell_type": "code",
   "execution_count": null,
   "metadata": {},
   "outputs": [],
   "source": []
  }
 ],
 "metadata": {
  "kernelspec": {
   "display_name": "Python 3",
   "language": "python",
   "name": "python3"
  },
  "language_info": {
   "codemirror_mode": {
    "name": "ipython",
    "version": 3
   },
   "file_extension": ".py",
   "mimetype": "text/x-python",
   "name": "python",
   "nbconvert_exporter": "python",
   "pygments_lexer": "ipython3",
   "version": "3.6.5"
  }
 },
 "nbformat": 4,
 "nbformat_minor": 2
}
