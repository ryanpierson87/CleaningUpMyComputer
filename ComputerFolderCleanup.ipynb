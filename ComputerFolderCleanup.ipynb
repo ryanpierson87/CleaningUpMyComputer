{
 "cells": [
  {
   "cell_type": "code",
   "execution_count": null,
   "metadata": {},
   "outputs": [],
   "source": [
    "pwd"
   ]
  },
  {
   "cell_type": "code",
   "execution_count": null,
   "metadata": {},
   "outputs": [],
   "source": [
    "import os\n",
    "x = input('Enter your username: ')\n",
    "path = '/Users/'+ x +'/Downloads'\n",
    "files = list(os.listdir(path))"
   ]
  },
  {
   "cell_type": "code",
   "execution_count": null,
   "metadata": {},
   "outputs": [],
   "source": [
    "for i in files:\n",
    "    print(i)"
   ]
  },
  {
   "cell_type": "code",
   "execution_count": null,
   "metadata": {},
   "outputs": [],
   "source": [
    "# FileType Dictionary\n",
    "collection = {}\n",
    "for file in files:\n",
    "    typ = file.rfind(\".\")\n",
    "    #print(o)\n",
    "    #print(path + '/' + file)\n",
    "    #print(type(path + '/' + file))\n",
    "    if os.path.isfile(path + '/' + file):\n",
    "        #print('ran')\n",
    "        if file[typ + 1:] not in collection:\n",
    "            collection[file[typ + 1:]] = []\n",
    "            collection[file[typ +1 :]].append(file)\n",
    "print(\"Number of file types:\",len(collection))\n",
    "print('Number of files:', len(files))\n",
    "print(collection)"
   ]
  },
  {
   "cell_type": "code",
   "execution_count": null,
   "metadata": {},
   "outputs": [],
   "source": [
    "\n",
    "# for  i in collection.keys():\n",
    "#     os.mkdir('/User/ryanpierson')"
   ]
  },
  {
   "cell_type": "code",
   "execution_count": null,
   "metadata": {},
   "outputs": [],
   "source": []
  },
  {
   "cell_type": "code",
   "execution_count": null,
   "metadata": {},
   "outputs": [],
   "source": [
    "now = datetime.datetime.now()"
   ]
  },
  {
   "cell_type": "code",
   "execution_count": null,
   "metadata": {},
   "outputs": [],
   "source": [
    "foldnm2 = str(now.month)+'.'+ \\\n",
    "    str(now.day)+'.'+str(now.year)"
   ]
  },
  {
   "cell_type": "code",
   "execution_count": null,
   "metadata": {},
   "outputs": [],
   "source": [
    "foldname = \"CleanUp Date \" + foldnm2"
   ]
  },
  {
   "cell_type": "code",
   "execution_count": null,
   "metadata": {},
   "outputs": [],
   "source": [
    "foldnm2"
   ]
  },
  {
   "cell_type": "code",
   "execution_count": null,
   "metadata": {},
   "outputs": [],
   "source": [
    "pwd"
   ]
  },
  {
   "cell_type": "code",
   "execution_count": null,
   "metadata": {},
   "outputs": [],
   "source": [
    "print(os.path.isdir(\"../Desktop\"))\n",
    "print(os.path.exists(\"/home/el/myfile.txt\"))"
   ]
  },
  {
   "cell_type": "code",
   "execution_count": null,
   "metadata": {},
   "outputs": [],
   "source": [
    "os.mkdir('../Desktop/Test')"
   ]
  },
  {
   "cell_type": "code",
   "execution_count": null,
   "metadata": {},
   "outputs": [],
   "source": [
    "def check_and_create(path):\n",
    "    if not os.path.isdir(path):\n",
    "        os.mkdir(path)"
   ]
  },
  {
   "cell_type": "code",
   "execution_count": null,
   "metadata": {},
   "outputs": [],
   "source": [
    "# move function\n",
    "def consolidate(dictionary, search_path):\n",
    "    import datetime\n",
    "    now = datetime.datetime.now()\n",
    "    foldname = \"CleanUp Date \" + \\\n",
    "        str(now.month)+'.'+str(now.day)+'.'+str(now.year)\n",
    "    nu_path = str(os.getcwd()) + \"Desktop/\" + foldname\n",
    "    check_and_create(nu_path)\n",
    "    for typ in dictionary.keys():\n",
    "        check_and_create(nu_path + '/' + typ)"
   ]
  },
  {
   "cell_type": "code",
   "execution_count": null,
   "metadata": {},
   "outputs": [],
   "source": [
    "x = input()\n",
    "print(x)"
   ]
  },
  {
   "cell_type": "code",
   "execution_count": null,
   "metadata": {},
   "outputs": [],
   "source": []
  }
 ],
 "metadata": {
  "kernelspec": {
   "display_name": "Python 3",
   "language": "python",
   "name": "python3"
  },
  "language_info": {
   "codemirror_mode": {
    "name": "ipython",
    "version": 3
   },
   "file_extension": ".py",
   "mimetype": "text/x-python",
   "name": "python",
   "nbconvert_exporter": "python",
   "pygments_lexer": "ipython3",
   "version": "3.6.5"
  }
 },
 "nbformat": 4,
 "nbformat_minor": 2
}
